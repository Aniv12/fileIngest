{
 "cells": [
  {
   "cell_type": "code",
   "execution_count": 2,
   "id": "5b2ff254",
   "metadata": {},
   "outputs": [],
   "source": [
    "import pandas as pd\n",
    "import numpy as np\n",
    "import dask.dataframe as dd\n",
    "import yaml"
   ]
  },
  {
   "cell_type": "code",
   "execution_count": 6,
   "id": "65a7b455",
   "metadata": {},
   "outputs": [
    {
     "name": "stderr",
     "output_type": "stream",
     "text": [
      "C:\\Users\\anivi\\AppData\\Local\\Temp\\ipykernel_16712\\3394357735.py:10: DtypeWarning: Columns (8) have mixed types. Specify dtype option on import or set low_memory=False.\n",
      "  pandas_df = pd.read_csv(file_path)\n"
     ]
    },
    {
     "name": "stdout",
     "output_type": "stream",
     "text": [
      "Column names are validated.\n",
      "Total number of rows: 14999999\n",
      "Total number of columns: 18\n",
      "File size: 2531802431 bytes\n"
     ]
    }
   ],
   "source": [
    "import pandas as pd\n",
    "import dask.dataframe as dd\n",
    "import re\n",
    "import os\n",
    "import yaml\n",
    "\n",
    "file_path = \"C:\\\\Users\\\\anivi\\\\Downloads\\\\archive (1)\\\\nyc_taxi_data_2014.csv\"\n",
    "\n",
    "# Using Pandas\n",
    "pandas_df = pd.read_csv(file_path)\n",
    "\n",
    "# Using Dask\n",
    "dask_df = dd.read_csv(file_path)\n",
    "\n",
    "def clean_column_name(column_name):\n",
    "    cleaned_name = re.sub(r'\\W+', '_', column_name.strip())\n",
    "    return cleaned_name\n",
    "\n",
    "pandas_df.columns = [clean_column_name(col) for col in pandas_df.columns]\n",
    "dask_df.columns = [clean_column_name(col) for col in dask_df.columns]\n",
    "\n",
    "schema = {\n",
    "    \"separator\": \"|\",\n",
    "    \"columns\": list(pandas_df.columns) \n",
    "}\n",
    "\n",
    "with open(\"schema.yaml\", \"w\") as yaml_file:\n",
    "    yaml.dump(schema, yaml_file)\n",
    "\n",
    "with open(\"schema.yaml\", \"r\") as yaml_file:\n",
    "    schema = yaml.safe_load(yaml_file)\n",
    "\n",
    "if set(pandas_df.columns) == set(schema[\"columns\"]):\n",
    "    print(\"Column names are validated.\")\n",
    "else:\n",
    "    print(\"Column names do not match the schema.\")\n",
    "\n",
    "pandas_df.to_csv(\"output_file.csv.gz\", sep=\"|\", compression=\"gzip\", index=False)\n",
    "\n",
    "total_rows = len(pandas_df)\n",
    "total_columns = len(pandas_df.columns)\n",
    "file_size = os.path.getsize(file_path)\n",
    "\n",
    "print(f\"Total number of rows: {total_rows}\")\n",
    "print(f\"Total number of columns: {total_columns}\")\n",
    "print(f\"File size: {file_size} bytes\")\n"
   ]
  },
  {
   "cell_type": "code",
   "execution_count": null,
   "id": "c784f539",
   "metadata": {},
   "outputs": [],
   "source": []
  }
 ],
 "metadata": {
  "kernelspec": {
   "display_name": "Python 3 (ipykernel)",
   "language": "python",
   "name": "python3"
  },
  "language_info": {
   "codemirror_mode": {
    "name": "ipython",
    "version": 3
   },
   "file_extension": ".py",
   "mimetype": "text/x-python",
   "name": "python",
   "nbconvert_exporter": "python",
   "pygments_lexer": "ipython3",
   "version": "3.9.13"
  }
 },
 "nbformat": 4,
 "nbformat_minor": 5
}
